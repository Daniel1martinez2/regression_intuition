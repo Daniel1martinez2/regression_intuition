{
 "cells": [
  {
   "cell_type": "markdown",
   "metadata": {},
   "source": [
    "# Import Required Libraries\n",
    "Import the necessary libraries, including matplotlib, numpy, and ipywidgets."
   ]
  },
  {
   "cell_type": "code",
   "execution_count": null,
   "metadata": {},
   "outputs": [],
   "source": [
    "import matplotlib.pyplot as plt\n",
    "import numpy as np\n",
    "import ipywidgets as widgets\n",
    "from IPython.display import display"
   ]
  },
  {
   "cell_type": "markdown",
   "metadata": {},
   "source": [
    "# Create Interactive Sliders\n",
    "Use ipywidgets to create sliders for adjusting the mean and standard deviation."
   ]
  },
  {
   "cell_type": "code",
   "execution_count": null,
   "metadata": {},
   "outputs": [],
   "source": [
    "# Create sliders for mean and standard deviation\n",
    "mean_slider = widgets.FloatSlider(value=0.0, min=-10.0, max=10.0, step=0.1, description='Mean:')\n",
    "std_slider = widgets.FloatSlider(value=1.0, min=0.1, max=5.0, step=0.1, description='Std Dev:')\n",
    "\n",
    "# Function to update the plot based on slider values\n",
    "def update_plot(mean, std):\n",
    "    x = np.linspace(-10, 10, 100)\n",
    "    y = np.random.normal(mean, std, size=x.shape)\n",
    "    plt.figure(figsize=(10, 6))\n",
    "    plt.scatter(x, y)\n",
    "    plt.title(f'Normal Distribution with Mean={mean} and Std Dev={std}')\n",
    "    plt.xlabel('X')\n",
    "    plt.ylabel('Y')\n",
    "    plt.show()\n",
    "\n",
    "# Link the sliders to the update function\n",
    "widgets.interactive(update_plot, mean=mean_slider, std=std_slider)\n",
    "\n",
    "# Display the sliders\n",
    "display(mean_slider, std_slider)"
   ]
  },
  {
   "cell_type": "markdown",
   "metadata": {},
   "source": [
    "# Update Plot with Slider Values\n",
    "Define a function to update the plot based on the current values of the sliders."
   ]
  },
  {
   "cell_type": "code",
   "execution_count": null,
   "metadata": {},
   "outputs": [],
   "source": [
    "# Function to update the plot based on slider values\n",
    "def update_plot(mean, std):\n",
    "    x = np.linspace(-10, 10, 100)\n",
    "    y = np.random.normal(mean, std, size=x.shape)\n",
    "    plt.figure(figsize=(10, 6))\n",
    "    plt.scatter(x, y)\n",
    "    plt.title(f'Normal Distribution with Mean={mean} and Std Dev={std}')\n",
    "    plt.xlabel('X')\n",
    "    plt.ylabel('Y')\n",
    "    plt.show()\n",
    "\n",
    "# Link the sliders to the update function\n",
    "widgets.interactive(update_plot, mean=mean_slider, std=std_slider)\n",
    "\n",
    "# Display the sliders\n",
    "display(mean_slider, std_slider)"
   ]
  },
  {
   "cell_type": "markdown",
   "metadata": {},
   "source": [
    "# Display Interactive Plot\n",
    "Use the interactive function from ipywidgets to display the plot with the sliders."
   ]
  },
  {
   "cell_type": "code",
   "execution_count": null,
   "metadata": {},
   "outputs": [],
   "source": [
    "# Display Interactive Plot\n",
    "# Use the interactive function from ipywidgets to display the plot with the sliders.\n",
    "\n",
    "# Create sliders for mean and standard deviation\n",
    "mean_slider = widgets.FloatSlider(value=0.0, min=-10.0, max=10.0, step=0.1, description='Mean:')\n",
    "std_slider = widgets.FloatSlider(value=1.0, min=0.1, max=5.0, step=0.1, description='Std Dev:')\n",
    "\n",
    "# Function to update the plot based on slider values\n",
    "def update_plot(mean, std):\n",
    "    x = np.linspace(-10, 10, 100)\n",
    "    y = np.random.normal(mean, std, size=x.shape)\n",
    "    plt.figure(figsize=(10, 6))\n",
    "    plt.scatter(x, y)\n",
    "    plt.title(f'Normal Distribution with Mean={mean} and Std Dev={std}')\n",
    "    plt.xlabel('X')\n",
    "    plt.ylabel('Y')\n",
    "    plt.show()\n",
    "\n",
    "# Link the sliders to the update function\n",
    "interactive_plot = widgets.interactive(update_plot, mean=mean_slider, std=std_slider)\n",
    "\n",
    "# Display the sliders and the plot\n",
    "display(interactive_plot)"
   ]
  }
 ],
 "metadata": {
  "language_info": {
   "name": "python"
  }
 },
 "nbformat": 4,
 "nbformat_minor": 2
}
